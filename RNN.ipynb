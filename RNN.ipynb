{
  "nbformat": 4,
  "nbformat_minor": 0,
  "metadata": {
    "kernelspec": {
      "display_name": "Python 3",
      "language": "python",
      "name": "python3"
    },
    "language_info": {
      "codemirror_mode": {
        "name": "ipython",
        "version": 3
      },
      "file_extension": ".py",
      "mimetype": "text/x-python",
      "name": "python",
      "nbconvert_exporter": "python",
      "pygments_lexer": "ipython3",
      "version": "3.6.8"
    },
    "colab": {
      "name": "RNN.ipynb",
      "provenance": [],
      "collapsed_sections": []
    },
    "accelerator": "GPU"
  },
  "cells": [
    {
      "cell_type": "code",
      "metadata": {
        "id": "V5zKNH5Ne6Xi",
        "outputId": "0b773e5c-a32a-4ca1-c68b-be4e8ed9b3f5",
        "colab": {
          "base_uri": "https://localhost:8080/"
        }
      },
      "source": [
        "%tensorflow_version 1.x"
      ],
      "execution_count": null,
      "outputs": [
        {
          "output_type": "stream",
          "text": [
            "TensorFlow 1.x selected.\n"
          ],
          "name": "stdout"
        }
      ]
    },
    {
      "cell_type": "markdown",
      "metadata": {
        "id": "Tguhtu5E97fi"
      },
      "source": [
        "## RECCURENT NEURAL NETWORK\n"
      ]
    },
    {
      "cell_type": "code",
      "metadata": {
        "id": "KiHygZgokEUz",
        "outputId": "657a8d5e-26d1-4678-acd4-34a7789c9815",
        "colab": {
          "base_uri": "https://localhost:8080/"
        }
      },
      "source": [
        "import tensorflow.compat.v1 as tf\n",
        "tf.disable_v2_behavior()"
      ],
      "execution_count": null,
      "outputs": [
        {
          "output_type": "stream",
          "text": [
            "WARNING:tensorflow:From /tensorflow-1.15.2/python3.6/tensorflow_core/python/compat/v2_compat.py:68: disable_resource_variables (from tensorflow.python.ops.variable_scope) is deprecated and will be removed in a future version.\n",
            "Instructions for updating:\n",
            "non-resource variables are not supported in the long term\n"
          ],
          "name": "stdout"
        }
      ]
    },
    {
      "cell_type": "markdown",
      "metadata": {
        "id": "DvHpDFR7ZFyp"
      },
      "source": [
        "### Import MNIST dataset\n",
        "\n"
      ]
    },
    {
      "cell_type": "code",
      "metadata": {
        "id": "_8Ttu9p697fm",
        "outputId": "990a25e4-1177-49fd-8da1-c7e4252b22a1",
        "colab": {
          "base_uri": "https://localhost:8080/"
        }
      },
      "source": [
        "from keras.datasets import mnist\n",
        "import numpy as np\n",
        "import matplotlib.pyplot as plt\n",
        "\n",
        "(X_train, Y_train), (X_test, Y_test) = mnist.load_data()"
      ],
      "execution_count": null,
      "outputs": [
        {
          "output_type": "stream",
          "text": [
            "Downloading data from https://s3.amazonaws.com/img-datasets/mnist.npz\n"
          ],
          "name": "stdout"
        },
        {
          "output_type": "stream",
          "text": [
            "Using TensorFlow backend.\n"
          ],
          "name": "stderr"
        },
        {
          "output_type": "stream",
          "text": [
            "11493376/11490434 [==============================] - 0s 0us/step\n"
          ],
          "name": "stdout"
        }
      ]
    },
    {
      "cell_type": "code",
      "metadata": {
        "id": "ZcJR4TReln0F",
        "outputId": "f4202f48-4d77-4605-c16b-4c0c0825be5d",
        "colab": {
          "base_uri": "https://localhost:8080/"
        }
      },
      "source": [
        "X_train.T"
      ],
      "execution_count": null,
      "outputs": [
        {
          "output_type": "execute_result",
          "data": {
            "text/plain": [
              "array([[[0, 0, 0, ..., 0, 0, 0],\n",
              "        [0, 0, 0, ..., 0, 0, 0],\n",
              "        [0, 0, 0, ..., 0, 0, 0],\n",
              "        ...,\n",
              "        [0, 0, 0, ..., 0, 0, 0],\n",
              "        [0, 0, 0, ..., 0, 0, 0],\n",
              "        [0, 0, 0, ..., 0, 0, 0]],\n",
              "\n",
              "       [[0, 0, 0, ..., 0, 0, 0],\n",
              "        [0, 0, 0, ..., 0, 0, 0],\n",
              "        [0, 0, 0, ..., 0, 0, 0],\n",
              "        ...,\n",
              "        [0, 0, 0, ..., 0, 0, 0],\n",
              "        [0, 0, 0, ..., 0, 0, 0],\n",
              "        [0, 0, 0, ..., 0, 0, 0]],\n",
              "\n",
              "       [[0, 0, 0, ..., 0, 0, 0],\n",
              "        [0, 0, 0, ..., 0, 0, 0],\n",
              "        [0, 0, 0, ..., 0, 0, 0],\n",
              "        ...,\n",
              "        [0, 0, 0, ..., 0, 0, 0],\n",
              "        [0, 0, 0, ..., 0, 0, 0],\n",
              "        [0, 0, 0, ..., 0, 0, 0]],\n",
              "\n",
              "       ...,\n",
              "\n",
              "       [[0, 0, 0, ..., 0, 0, 0],\n",
              "        [0, 0, 0, ..., 0, 0, 0],\n",
              "        [0, 0, 0, ..., 0, 0, 0],\n",
              "        ...,\n",
              "        [0, 0, 0, ..., 0, 0, 0],\n",
              "        [0, 0, 0, ..., 0, 0, 0],\n",
              "        [0, 0, 0, ..., 0, 0, 0]],\n",
              "\n",
              "       [[0, 0, 0, ..., 0, 0, 0],\n",
              "        [0, 0, 0, ..., 0, 0, 0],\n",
              "        [0, 0, 0, ..., 0, 0, 0],\n",
              "        ...,\n",
              "        [0, 0, 0, ..., 0, 0, 0],\n",
              "        [0, 0, 0, ..., 0, 0, 0],\n",
              "        [0, 0, 0, ..., 0, 0, 0]],\n",
              "\n",
              "       [[0, 0, 0, ..., 0, 0, 0],\n",
              "        [0, 0, 0, ..., 0, 0, 0],\n",
              "        [0, 0, 0, ..., 0, 0, 0],\n",
              "        ...,\n",
              "        [0, 0, 0, ..., 0, 0, 0],\n",
              "        [0, 0, 0, ..., 0, 0, 0],\n",
              "        [0, 0, 0, ..., 0, 0, 0]]], dtype=uint8)"
            ]
          },
          "metadata": {
            "tags": []
          },
          "execution_count": 4
        }
      ]
    },
    {
      "cell_type": "code",
      "metadata": {
        "id": "XhJXwal8rhqT",
        "outputId": "06842961-2662-43bc-cefa-e31b16259aaf",
        "colab": {
          "base_uri": "https://localhost:8080/"
        }
      },
      "source": [
        "Y_train"
      ],
      "execution_count": null,
      "outputs": [
        {
          "output_type": "execute_result",
          "data": {
            "text/plain": [
              "array([5, 0, 4, ..., 5, 6, 8], dtype=uint8)"
            ]
          },
          "metadata": {
            "tags": []
          },
          "execution_count": 5
        }
      ]
    },
    {
      "cell_type": "markdown",
      "metadata": {
        "id": "gvTFVgAfZZnY"
      },
      "source": [
        "### 1) Define you hyperparameters: \n"
      ]
    },
    {
      "cell_type": "code",
      "metadata": {
        "id": "loJ9wxrC97fz"
      },
      "source": [
        "# hyperparameters\n",
        "n_neurons = 128\n",
        "learning_rate = 0.001\n",
        "batch_size = 128  \n",
        "n_epochs = 10"
      ],
      "execution_count": null,
      "outputs": []
    },
    {
      "cell_type": "code",
      "metadata": {
        "id": "aTWWcesJ97f8"
      },
      "source": [
        "# parameters\n",
        "n_steps = 28 \n",
        "n_inputs = 28 \n",
        "n_outputs = 10 "
      ],
      "execution_count": null,
      "outputs": []
    },
    {
      "cell_type": "markdown",
      "metadata": {
        "id": "-ZU2rLC5Zn-r"
      },
      "source": [
        "### 2) Explore data\n"
      ]
    },
    {
      "cell_type": "code",
      "metadata": {
        "id": "maGrATA097gE",
        "outputId": "9d01d543-8a9c-4d86-aae9-a6f365022fbb",
        "colab": {
          "base_uri": "https://localhost:8080/"
        }
      },
      "source": [
        "print(X_train.shape)\n",
        "print(X_test.shape)\n",
        "print(Y_train.shape)\n",
        "print(Y_test.shape)\n",
        "Y_train_all = np.eye(10)[Y_train]\n",
        "print(Y_train_all.shape)\n",
        "\n",
        "y_test = np.eye(10)[Y_test]\n",
        "print(y_test.shape)"
      ],
      "execution_count": null,
      "outputs": [
        {
          "output_type": "stream",
          "text": [
            "(60000, 28, 28)\n",
            "(10000, 28, 28)\n",
            "(60000,)\n",
            "(10000,)\n",
            "(60000, 10)\n",
            "(10000, 10)\n"
          ],
          "name": "stdout"
        }
      ]
    },
    {
      "cell_type": "code",
      "metadata": {
        "id": "McGEYXMD97gL",
        "outputId": "b49868d3-db96-44ba-eca4-722125a146e1",
        "colab": {
          "base_uri": "https://localhost:8080/",
          "height": 281
        }
      },
      "source": [
        "plt.imshow(X_train[0], cmap='gray')\n",
        "plt.title('%i' % np.argmax(Y_train_all[0]))\n",
        "plt.show()"
      ],
      "execution_count": null,
      "outputs": [
        {
          "output_type": "display_data",
          "data": {
            "image/png": "[encoded data removed]",
            "text/plain": [
              "<Figure size 432x288 with 1 Axes>"
            ]
          },
          "metadata": {
            "tags": [],
            "needs_background": "light"
          }
        }
      ]
    },
    {
      "cell_type": "code",
      "metadata": {
        "id": "lniVtQCbkvoQ"
      },
      "source": [
        "from keras.models import Sequential\n",
        "from keras.layers import Dense, Activation, Dropout\n",
        "from keras.layers.recurrent import SimpleRNN, LSTM, GRU \n"
      ],
      "execution_count": null,
      "outputs": []
    },
    {
      "cell_type": "code",
      "metadata": {
        "id": "aEYkmHuAEes-"
      },
      "source": [
        "model = Sequential()\n",
        "model.add(LSTM(128, input_shape = (28,28), activation = 'relu', return_sequences=True))\n",
        "model.add(Dropout(0.2))\n",
        "model.add(LSTM(128, activation = 'relu'))\n",
        "model.add(Dropout(0.2))\n",
        "model.add(Dense(32, activation='relu'))\n",
        "model.add(Dropout(0.2))\n",
        "model.add(Dense(10, activation='softmax'))\n",
        "\n"
      ],
      "execution_count": null,
      "outputs": []
    },
    {
      "cell_type": "code",
      "metadata": {
        "id": "RQ-UL_1cy8sk",
        "outputId": "da422345-c7eb-4bee-a104-173be7de33a2",
        "colab": {
          "base_uri": "https://localhost:8080/"
        }
      },
      "source": [
        "optimizer = tf.keras.optimizers.Adam(learning_rate = 1e-3)\n",
        "model.compile(loss = 'sparse_categorical_crossentropy',  optimizer = 'adam',      metrics = ['mae'])\n",
        "model.fit(X_train,Y_train, epochs = 20, validation_data=(X_test, Y_test))"
      ],
      "execution_count": null,
      "outputs": [
        {
          "output_type": "stream",
          "text": [
            "Train on 60000 samples, validate on 10000 samples\n",
            "Epoch 1/20\n",
            "60000/60000 [==============================] - 94s 2ms/step - loss: 23.6692 - mae: 4.3737 - val_loss: 2.3012 - val_mae: 4.3630\n",
            "Epoch 2/20\n",
            "60000/60000 [==============================] - 92s 2ms/step - loss: 2.3469 - mae: 4.3737 - val_loss: 2.3011 - val_mae: 4.3630\n",
            "Epoch 3/20\n",
            "60000/60000 [==============================] - 91s 2ms/step - loss: 2.3335 - mae: 4.3737 - val_loss: 2.3117 - val_mae: 4.3630\n",
            "Epoch 4/20\n",
            "60000/60000 [==============================] - 91s 2ms/step - loss: 2.7309 - mae: 4.3737 - val_loss: 2.3012 - val_mae: 4.3630\n",
            "Epoch 5/20\n",
            "60000/60000 [==============================] - 92s 2ms/step - loss: 2.3997 - mae: 4.3737 - val_loss: 2.3011 - val_mae: 4.3630\n",
            "Epoch 6/20\n",
            "60000/60000 [==============================] - 90s 2ms/step - loss: 2.3364 - mae: 4.3737 - val_loss: 2.3011 - val_mae: 4.3630\n",
            "Epoch 7/20\n",
            "60000/60000 [==============================] - 90s 2ms/step - loss: 2.3364 - mae: 4.3737 - val_loss: 2.3011 - val_mae: 4.3630\n",
            "Epoch 8/20\n",
            "60000/60000 [==============================] - 90s 2ms/step - loss: 2.3750 - mae: 4.3737 - val_loss: 2.3010 - val_mae: 4.3630\n",
            "Epoch 9/20\n",
            "60000/60000 [==============================] - 91s 2ms/step - loss: 2.3441 - mae: 4.3737 - val_loss: 2.3010 - val_mae: 4.3630\n",
            "Epoch 10/20\n",
            "60000/60000 [==============================] - 90s 1ms/step - loss: 5.3056 - mae: 4.3737 - val_loss: 2.3011 - val_mae: 4.3630\n",
            "Epoch 11/20\n",
            "60000/60000 [==============================] - 90s 1ms/step - loss: 2.7020 - mae: 4.3737 - val_loss: 2.3012 - val_mae: 4.3630\n",
            "Epoch 12/20\n",
            "60000/60000 [==============================] - 90s 2ms/step - loss: 2.3134 - mae: 4.3737 - val_loss: 2.3011 - val_mae: 4.3630\n",
            "Epoch 13/20\n",
            "60000/60000 [==============================] - 90s 1ms/step - loss: 2.3017 - mae: 4.3737 - val_loss: 2.3010 - val_mae: 4.3630\n",
            "Epoch 14/20\n",
            "60000/60000 [==============================] - 90s 1ms/step - loss: 2.3096 - mae: 4.3737 - val_loss: 2.3010 - val_mae: 4.3630\n",
            "Epoch 15/20\n",
            "60000/60000 [==============================] - 90s 2ms/step - loss: 2.3013 - mae: 4.3737 - val_loss: 2.3012 - val_mae: 4.3630\n",
            "Epoch 16/20\n",
            "60000/60000 [==============================] - 90s 1ms/step - loss: 2.3014 - mae: 4.3737 - val_loss: 2.3012 - val_mae: 4.3630\n",
            "Epoch 17/20\n",
            "60000/60000 [==============================] - 90s 1ms/step - loss: 2.3014 - mae: 4.3737 - val_loss: 2.3012 - val_mae: 4.3630\n",
            "Epoch 18/20\n",
            "60000/60000 [==============================] - 89s 1ms/step - loss: 3.6005 - mae: 4.3737 - val_loss: 2.3010 - val_mae: 4.3630\n",
            "Epoch 19/20\n",
            "60000/60000 [==============================] - 90s 2ms/step - loss: 2.4045 - mae: 4.3737 - val_loss: 2.3010 - val_mae: 4.3630\n",
            "Epoch 20/20\n",
            "60000/60000 [==============================] - 90s 1ms/step - loss: 2.3044 - mae: 4.3737 - val_loss: 2.3010 - val_mae: 4.3630\n"
          ],
          "name": "stdout"
        },
        {
          "output_type": "execute_result",
          "data": {
            "text/plain": [
              "<keras.callbacks.callbacks.History at 0x7f208810eac8>"
            ]
          },
          "metadata": {
            "tags": []
          },
          "execution_count": 22
        }
      ]
    },
    {
      "cell_type": "code",
      "metadata": {
        "id": "_ZrZM5pc5td0"
      },
      "source": [
        "model.evaluate(X_test, Y_test)"
      ],
      "execution_count": null,
      "outputs": []
    }
  ]
}